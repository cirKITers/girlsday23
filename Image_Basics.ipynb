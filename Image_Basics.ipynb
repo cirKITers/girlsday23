{
 "cells": [
  {
   "cell_type": "markdown",
   "id": "dcf34cc0",
   "metadata": {},
   "source": [
    "# Bilderverarbeitung in Python\n",
    "\n",
    "In diesem Notebook bringen wir Dir ein paar Grundlagen bei, wie man in Python mit Bildern arbeiten kann. Du lernst Bilder zu laden und leicht zu bearbeiten. Damit weißt du dann auch schon alles, um Bilder auf den Quantencomputer zu schicken. \n",
    "\n",
    "Als erstes müssen wir aber noch ein paar sogenannter `imports` machen. Hier importieren wir Funktionen, die andere (oder wir in anderen Dateien) geschrieben haben, damit wir sie in diesem Notebook verwenden können. Du musst in der nächsten Zelle also nichts machen oder sie verstehen. Wichtig ist nur, dass Du sie ausführst, damit der Computer weiß, dass wir gleich diese Funktionen verwenden wollen. Anschließend können wir sie verwenden wie `print()` oder `len()`, die hatten wir ja auch nicht selbst geschrieben. \n",
    "\n",
    "Danach geht es aber endlich los. "
   ]
  },
  {
   "cell_type": "code",
   "execution_count": null,
   "id": "9a49e042",
   "metadata": {},
   "outputs": [],
   "source": [
    "import numpy\n",
    "from utils import show_bw_image, load_image\n",
    "from matplotlib.pyplot import imshow"
   ]
  },
  {
   "cell_type": "markdown",
   "id": "dae72f70",
   "metadata": {},
   "source": [
    "Wie Du wahrscheinlich weißt, sind Bilder aus ganz vielen Pixeln zusammengesetzt. Ein Pixel wiederum besteht bei einem Farbbild aus drei Werten: Rot, Grün, Blau - (im deutschen wie im englischen) kurz: RGB. Bei einem Schwarz-Weiß-Bild besteht ein Pixel sogar nur aus einem Wert. Diese Anzahl wird auch als Anzahl der Farbkanäle bezeichnet.  \n",
    "Die Werte geben jeweils an, wie stark die Farbe in diesem Bild ist. Aber dazu gleich mehr.\n",
    "\n",
    "Ein (Farb-)Bild ist also eigentlich eine ganz große Matrix mit drei Dimensionen: \n",
    "- Höhe vom Bild in Pixeln \n",
    "- Breite vom Bild in Pixeln \n",
    "- Anzahl Farbkanäle\n",
    "\n",
    "Ein Schwarz-Weiß-Bild hat damit eigentlich nur zwei Dimension. Somit ist so ein Bild eigentlich eine Tabelle. Mit Zeilen (Höhe vom Bild), Spalten (Breite vom Bild) und in jeder Tabellenposition steht ein Pixelwert. \n",
    "\n",
    "\n",
    "Eine Form, um diese Matrix darzustellen, kennst du sogar schon: die Liste. Denn eine Liste kann auch Listen beinhalten. Somit ist ein Farbbild eine Liste von Listen von Listen. \n",
    "\n",
    "Aber machen wir erstmal ein Beispiel, eines Schwarz-Weiß-Bildes. Diese sind folglich \"nur\" eine Liste von Listen."
   ]
  },
  {
   "cell_type": "code",
   "execution_count": null,
   "id": "43040a12",
   "metadata": {},
   "outputs": [],
   "source": [
    "image = [[0, 0, 0], [0, 0, 0], [0, 0, 0], [0, 0, 0]]"
   ]
  },
  {
   "cell_type": "markdown",
   "id": "a8413525",
   "metadata": {},
   "source": [
    "Das ist schon ein Bild. Mit dem folgenden Code, können wir ihn uns anzeigen lassen. (Vergiss nicht vorher die Zelle oben drüber ausgeführt zu haben.)"
   ]
  },
  {
   "cell_type": "code",
   "execution_count": null,
   "id": "589baed1",
   "metadata": {},
   "outputs": [],
   "source": [
    "show_bw_image(image)"
   ]
  },
  {
   "cell_type": "markdown",
   "id": "e77a5917",
   "metadata": {},
   "source": [
    "Nur Schwarz - sehr langweilig. Aber wenn wir mal einen Wert verändern, sieht es schon anders aus. Wir machen aus einer Null eine `255`."
   ]
  },
  {
   "cell_type": "code",
   "execution_count": null,
   "id": "c3bc9fb1",
   "metadata": {},
   "outputs": [],
   "source": [
    "image = [[0, 0, 0], [0, 255, 0], [0, 0, 0], [0, 0, 0]]\n",
    "show_bw_image(image)"
   ]
  },
  {
   "cell_type": "markdown",
   "id": "6605bd5a",
   "metadata": {},
   "source": [
    "Jetzt kann man schon viel besser erkennen, was wir da eigentlich gemacht haben. Wir haben eine Liste erzeugt mit vier Elementen. Jedes Element stellt eine Zeile da und beinhaltet drei Schwarz-Weiß-Pixel. `0` bedeutet Schwarz. `255` bedeutet Weiß. \n",
    "\n",
    "Mit diesem Wissen guck noch einmal, warum wir durch die `255` an dieser Stelle einen weißen Pixel an dieser Stelle erzeugt hat. \n",
    "\n",
    "Versuche mal den Pixel ganz unten links auf weiß zu setzen."
   ]
  },
  {
   "cell_type": "code",
   "execution_count": null,
   "id": "3aebfcf1",
   "metadata": {},
   "outputs": [],
   "source": [
    "image = [[0, 0, 0], [0, 255, 0], [0, 0, 0], [0, 0, 0]]\n",
    "show_bw_image(image)"
   ]
  },
  {
   "cell_type": "markdown",
   "id": "311f53d4",
   "metadata": {},
   "source": [
    "Wie Du dir vielleicht schon gedach hast, kann man nicht nur `0` oder `255`nehmen. Das ist nämlich ein fließende Übergang von Schwarz zu Weiß. So ist zum Beispiel `127` genau die Mitte und Grau. \n",
    "\n",
    "Passe mal beliebig die Werte an und erzeuge so ein eigenes, kleines \"Bild\". Die Werte müssen bloß zwischen `0` und `255` liegen."
   ]
  },
  {
   "cell_type": "code",
   "execution_count": null,
   "id": "9c105004",
   "metadata": {},
   "outputs": [],
   "source": [
    "image = [[0, 0, 0], [0, 127, 0], [0, 0, 0], [0, 0, 0]]\n",
    "show_bw_image(image)"
   ]
  },
  {
   "cell_type": "markdown",
   "id": "c25984e9",
   "metadata": {},
   "source": [
    "# Farbbilder als numpy array\n",
    "\n",
    "Mit so kleinen Schwarz-Weiß-Bildern ist das mit Listen (von Listen) noch möglich. Danach wird es schnell unübersichtlich, denn \"normale\" Bilder bestehen aus Millionen von Werten. Für den Computer wäre das kein Problem, der kann damit gut umgehen. Aber effektiv kann der damit auch nicht mehr wirklich arbeiten. Deswegen nutzt man sogenannte `arrays` aus dem Paket `numpy`. Pakete beinhalten viele Datentypen und Funktionen aus einem Bereich. Wir nutzen numpy jetzt für Bilder.\n",
    "\n",
    "Arrays sind einfach nur große Tabellen mit beliebig vielen Dimensionen. Für uns perfekt. \n",
    "\n",
    "So laden wir ein Bild von unserem Computer. Den Pfad zu der Datei müssen wir an diese Funktion als String übergeben."
   ]
  },
  {
   "cell_type": "code",
   "execution_count": null,
   "id": "07415de5",
   "metadata": {},
   "outputs": [],
   "source": [
    "image = load_image(\"./images/Kitten.jpg\")"
   ]
  },
  {
   "cell_type": "markdown",
   "id": "5d9c5020",
   "metadata": {},
   "source": [
    "So können wir ein Farbbild anzeigen lassen:\n",
    "\n",
    "(Da kommt noch eine komische Zeile Text vor dem Bild. Die kannst du ignorieren.)"
   ]
  },
  {
   "cell_type": "code",
   "execution_count": null,
   "id": "031311b9",
   "metadata": {},
   "outputs": [],
   "source": [
    "imshow(image)"
   ]
  },
  {
   "cell_type": "markdown",
   "id": "d7ed4cf4",
   "metadata": {},
   "source": [
    "An der Achsenbeschriftung kannst du hier schon sehen, wie groß dieses Bild in Pixeln ungefähr ist. Da das Bild als numpy array geladen wurde, gibt es aber auch die Möglichkeit `shape` zu benutzen, das uns das exakt für jede Dimension verrät. Ähnlich wie es `len()` bei Listen getan hat. `shape` rufen wir aber direkt auf der Liste mit einem Punkt getrennt auf (das hast du auch schon gesehen. Bei `my_list.append()` um etwas an eine Liste anzuhängen. Da wurde `append()` auch direkt angehängt.). \n",
    "\n",
    "`shape` ist keine Funktion (sondern ein Attribut, also eine Eigenschaft, die das numpy array hat.). Deswegen gibt es auch nicht wie sonst runde Klammern."
   ]
  },
  {
   "cell_type": "code",
   "execution_count": null,
   "id": "27e58c89",
   "metadata": {},
   "outputs": [],
   "source": [
    "print(image.shape)\n",
    "\n",
    "print(\"Anzahl Zeilen:\", image.shape[0])\n",
    "print(\"Anzahl Spalten:\", image.shape[1])\n",
    "print(\"Anzahl Farbkanäle:\", image.shape[2])"
   ]
  },
  {
   "cell_type": "markdown",
   "id": "92e412cd",
   "metadata": {},
   "source": [
    "Wie du siehst, gibt `shape` auch eine Liste zurück. Mit den eckigen Klammern und einem Index können wir wieder einzelne Elemente aufrufen.\n",
    "\n",
    "Dieses Bild hat also 210 (Pixel-) Zeilen, 262 (Pixel-) Spalten und drei Farbkanäle (RGB). Das sind insgesamt `210 * 262 * 3 = 165060` Werte, um diese kleine Katze darzustellen!\n",
    "\n",
    "Genau wie bei Listen können wir uns mit eckigen Klammer `[]` einzelne Werte anzeigen lassen. Hier müssen wir natürlich jetzt 3 Werte angeben. Diese trennen wir mit einem Komma.\n",
    "\n",
    "(Vergiss nicht, Informatiker fangen bei 0 an zu zählen)"
   ]
  },
  {
   "cell_type": "code",
   "execution_count": null,
   "id": "e3f387f0",
   "metadata": {},
   "outputs": [],
   "source": [
    "pixel = image[100, 150, 0]\n",
    "print(pixel)"
   ]
  },
  {
   "cell_type": "markdown",
   "id": "6ec7b9a0",
   "metadata": {},
   "source": [
    "Was bedeutet diese 213? In Zeile 100, in Spalte 150 ist der \"rote Wert\" 213. \n",
    "Lass Dir mal den grünen und blauen Wert ausgeben. \n",
    "\n",
    "Du kannst auch mal testen, was passiert, wenn man nur zwei Werte in den eckigen Klammern übergibt. Vergiss nicht: Arrays sind ja auch eine Liste von Listen von Listen ..."
   ]
  },
  {
   "cell_type": "code",
   "execution_count": null,
   "id": "9d63af42",
   "metadata": {},
   "outputs": [],
   "source": []
  },
  {
   "cell_type": "markdown",
   "id": "509fe533",
   "metadata": {},
   "source": [
    "Genau so wie mit Listen, kann man auch Werte so neu zuweisen. Wir setzen mal ein Pixel Wert komplett auf rot. Also den R Wert auf `255` und G und B auf `0`"
   ]
  },
  {
   "cell_type": "code",
   "execution_count": null,
   "id": "f2561b3b",
   "metadata": {},
   "outputs": [],
   "source": [
    "image[25, 200, 0] = 255\n",
    "image[25, 200, 1] = 0\n",
    "image[25, 200, 2] = 0\n",
    "\n",
    "imshow(image)"
   ]
  },
  {
   "cell_type": "markdown",
   "id": "9b140b8b",
   "metadata": {},
   "source": [
    "Ein kleiner roter Punkt ist erschienen!\n",
    "\n",
    "Jetzt ändern wir mal das komplette Bild, indem wir ihm einen rot Stich verpassen. Das heißt wir erhöhen den Rot-Wert in jedem Pixel um 100. Da müssen wir aber aufpassen, denn kein Wert darf über `255`liegen. \n",
    "\n",
    "Um über das Bild zu laufen, nutzen wir zwei `for` Schleifen die ineinander liegen. \n",
    "Versuche mal den folgenden Code zu verstehen. Werfe zur Not noch einmal einen Blick in das andere Notebook. Uns kannst Du natürlich auch immer fragen :)\n",
    "\n",
    "Vorher kommt noch einmal eine Box, die Dir vielleicht hilft, um das Konzept von zwei `for` Schleifen ineinander zu verstehen."
   ]
  },
  {
   "cell_type": "code",
   "execution_count": null,
   "id": "70e9a36a",
   "metadata": {},
   "outputs": [],
   "source": [
    "for i in range(5):\n",
    "    for j in range(3):\n",
    "        print(\"i:\", i, \"  j: \", j)"
   ]
  },
  {
   "cell_type": "code",
   "execution_count": null,
   "id": "2bd17aa3",
   "metadata": {},
   "outputs": [],
   "source": [
    "# wir laden noch einmal das Bild. \n",
    "# Wir haben ja sonst die ganze Zeit diesen roten Punkt\n",
    "from copy import copy\n",
    "image = load_image(\"./images/Kitten.jpg\")\n",
    "\n",
    "for row in range(image.shape[0]): # hier iterieren wir über alle Zeilen und nennen die aktuelle row\n",
    "    for column in range(image.shape[1]): # hier über alle Spalten und nennen die aktuelle column\n",
    "        # der neue Wert = der alte Wert + 100 \n",
    "        old_value = image[row, column, 0] \n",
    "        new_value = old_value + 100\n",
    "        \n",
    "        # wir müssen sicherstellen, dass der neue Wert nicht über 255 liegt.\n",
    "        # Wenn ja, setzen wir ihn auf das Maximum: 255\n",
    "        \n",
    "        if new_value > 255:\n",
    "            new_value = 255\n",
    "            \n",
    "        # jetzt können wir den neuen Wert zuweisen\n",
    "        \n",
    "        image[row, column, 0] = new_value\n",
    "        \n",
    "\n",
    "imshow(image)"
   ]
  },
  {
   "cell_type": "markdown",
   "id": "434507c4",
   "metadata": {},
   "source": [
    "Eine rötliche Katze!\n",
    "\n",
    "Kannst du auch einen Blau-Stich erzeugen?"
   ]
  },
  {
   "cell_type": "code",
   "execution_count": null,
   "id": "d13d479c",
   "metadata": {},
   "outputs": [],
   "source": [
    "# wir laden noch einmal das Bild. \n",
    "# Wir haben ja sonst die ganze Zeit einen Rot-Stich\n",
    "from copy import copy\n",
    "image = load_image(\"./images/Kitten.jpg\")\n",
    "\n",
    "# Ab hier dein Code\n",
    "\n"
   ]
  },
  {
   "cell_type": "markdown",
   "id": "8dc2212e",
   "metadata": {},
   "source": [
    "Letzte Aufgabe für dieses Notebook: \n",
    "\n",
    "Gerade hast du wahrscheinlich nur zwei Zahlen geändert, um aus einem Rot-Stich einen Blau-Stich zu machen. Kannst du auch einen Code schreiben, sodass man nur eine Zahl ändern muss, um zwischen Rot-, Grün- und Blau-Stich zu wechseln? Tipp: Dafür kann man noch vor den beiden `for` Schleifen eine Zeile ergänzen. "
   ]
  },
  {
   "cell_type": "code",
   "execution_count": null,
   "id": "0763d36b",
   "metadata": {},
   "outputs": [],
   "source": [
    "# wir laden das Bild. \n",
    "from copy import copy\n",
    "image = load_image(\"./images/Kitten.jpg\")\n",
    "\n",
    "# Ab hier dein Code\n",
    "\n"
   ]
  }
 ],
 "metadata": {
  "kernelspec": {
   "display_name": "work",
   "language": "python",
   "name": "work"
  },
  "language_info": {
   "codemirror_mode": {
    "name": "ipython",
    "version": 3
   },
   "file_extension": ".py",
   "mimetype": "text/x-python",
   "name": "python",
   "nbconvert_exporter": "python",
   "pygments_lexer": "ipython3",
   "version": "3.10.6"
  }
 },
 "nbformat": 4,
 "nbformat_minor": 5
}
