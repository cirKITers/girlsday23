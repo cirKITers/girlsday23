{
 "cells": [
  {
   "cell_type": "markdown",
   "id": "f65c4646",
   "metadata": {},
   "source": [
    "# Hello World\n",
    "\n",
    "Zum Programmieren nutzen wir heute die Programmiersprache Python. Hier wollen wir Dir ein paar Grundlagen beibringen. Dazu nutzen wir ein sogenanntes Notebook, das du gerade vor Dir hast. Notebooks bestehen aus Zellen (Cells), die entweder Text beinhalten (so wie diese hier) oder Code (so wie die folgende). Code-Zellen kannst du ausführen, indem du in die Zelle klickst und dann oben in der Leiste auf `Run` klickst oder du drückst `Strg`+ `Enter`. Probiere es mal bei der folgenden Zelle. "
   ]
  },
  {
   "cell_type": "code",
   "execution_count": null,
   "id": "d1da9292",
   "metadata": {},
   "outputs": [],
   "source": [
    "print(\"Hello World\")"
   ]
  },
  {
   "cell_type": "markdown",
   "id": "2d7af307",
   "metadata": {},
   "source": [
    "Unter der Zelle sollte der Spruch \"Hello World\" erschienen sein. Mit dem `print()`Befehl, kann man sich nämlich ausgeben lassen, was in den runden Klammern steht. Texte müssen in Programmiersprachen mit Anführungszeichen gekennzeichnet sein und werden auch Strings (engl. für Zeichenkette) genannt. Probiere mal in der nächsten Zelle deinen Namen mit `print()` ausgeben zu lassen. "
   ]
  },
  {
   "cell_type": "code",
   "execution_count": null,
   "id": "db41afad",
   "metadata": {},
   "outputs": [],
   "source": [
    "# Schreibe in die nächste Zeile deinen Code\n",
    "\n",
    "\n",
    "# Das hier sind übrigens Kommentare. Diese Zeile beginnen mit einem # und werden vom Computer ignoriert\n",
    "# Deswegen kann man hier schreiben, was man will und es gibt trotzdem keinen Fehler. "
   ]
  },
  {
   "cell_type": "markdown",
   "id": "61f3dd21",
   "metadata": {},
   "source": [
    "# Variablen\n",
    "\n",
    "Variablen kennst du Wahrscheinlich aus dem Matheunterricht. Da heißen die meist x und y. Beim Programmieren werden Variablen als eine Art Platzhalter verwendent. So kann man einer Variable (die man fast beliebig nennen kann - aber eben nur fast). Einen Wert zuweisen. So wie hier:"
   ]
  },
  {
   "cell_type": "code",
   "execution_count": null,
   "id": "01bb7cc5",
   "metadata": {},
   "outputs": [],
   "source": [
    "a = \"Hello World\"\n",
    "print(a)"
   ]
  },
  {
   "cell_type": "markdown",
   "id": "8c9a8b08",
   "metadata": {},
   "source": [
    "Es passiert genau das gleiche wie in der ersten Zelle, aber diesmal haben wir \"Hello World\" der Variable `a` zugewiesen. Wir können jetzt solange `a` als Stellvertreter für \"Hello World\" verwenden, bis wir es mit einem neuen Wert überschreiben. Das geht in Notebooks sogar über verschiedene Zellen hinweg."
   ]
  },
  {
   "cell_type": "code",
   "execution_count": null,
   "id": "ad70e4e7",
   "metadata": {},
   "outputs": [],
   "source": [
    "print(\"a steht gerade für:\", a)\n",
    "# wie du siehst, kann man an print() mehrere Sache übergeben, wenn man sie mit einem Komma trennt. \n",
    "\n",
    "# jetzt überschreiben wir a\n",
    "a = \"Hello Karlsruhe\"\n",
    "print(\"jetzt steht a für:\", a)"
   ]
  },
  {
   "cell_type": "markdown",
   "id": "17f8ef48",
   "metadata": {},
   "source": [
    "Variablen(werte) haben unterschiedliche Datentypen. Einen kennst du schon - nämlich String. Das ist quasi der Datentyp für Text. Andere Datentypen sind zum Beispiel Interger (ganze Zahlen), Float (Gleitkommazahlen) oder Boolsche Werte (True oder False, Wahr oder Falsch). In Python muss man bei der Erstellung (oder Zuweisung) einer Variablen aber nicht angben, was diese für einen Typ hat. Python erkennt das automatisch. Hier ein paar Beispiele: "
   ]
  },
  {
   "cell_type": "code",
   "execution_count": null,
   "id": "a1466ca9",
   "metadata": {},
   "outputs": [],
   "source": [
    "var1 = 1 # ein Integer\n",
    "var2 = 9.0 # ein Float\n",
    "var3 = True # ein Bool\n",
    "var4 = False # ein Bool"
   ]
  },
  {
   "cell_type": "markdown",
   "id": "8ab7b73b",
   "metadata": {},
   "source": [
    "Gerade Integer und Floats sind recht ähnlich zur Mathematik. In Python kann man mit diesen sogar rechnen, wie mit einem Taschenrechner:"
   ]
  },
  {
   "cell_type": "code",
   "execution_count": null,
   "id": "95e56351",
   "metadata": {},
   "outputs": [],
   "source": [
    "result = 5 + 6.3\n",
    "print(result)"
   ]
  },
  {
   "cell_type": "markdown",
   "id": "340313f1",
   "metadata": {},
   "source": [
    "Versuche selbst mal ein paar einfach Gleichungen ausrechnen und Dir das Ergebnis anzeigen zu lassen. Du kannst `+`, `-`, `*` und `/`. Auch Klammern `()`funktionieren."
   ]
  },
  {
   "cell_type": "code",
   "execution_count": null,
   "id": "25a578df",
   "metadata": {},
   "outputs": [],
   "source": []
  },
  {
   "cell_type": "markdown",
   "id": "0eef5840",
   "metadata": {},
   "source": [
    "Man kann sogar Dinge machen, die in der Mathematik nicht gehen. Während `a = a + 1` dort eine falsche Aussage wäre, wird in der Informatik der alte Wert von a genommen und um eins erhöht. Das funktioniert natürlich nur wenn a ein Interger oder Float ist. "
   ]
  },
  {
   "cell_type": "code",
   "execution_count": null,
   "id": "4e804cd4",
   "metadata": {},
   "outputs": [],
   "source": [
    "a = 4\n",
    "\n",
    "print(\"Alter Wert\", a)\n",
    "\n",
    "a = a + 1\n",
    "\n",
    "print(\"Neuer Wert\", a)"
   ]
  },
  {
   "cell_type": "markdown",
   "id": "b08fbf1d",
   "metadata": {},
   "source": [
    "# Funktionen\n",
    "\n",
    "Zusammen mit Variablen sind Funktionen die Grundlage für das Programmieren. Genau wie in der Mathematik nimmt eine Funktion Variablen (bzw. man übergibt ihr Variablen), macht \"irgendwas\" damit und gibt ein Ergebnis zurück (das ist nicht zwingend so, manchmal macht sie auch einfach nur was und gibt nichts zurück). Hier ein Beispiel. Versuch mal zu verstehen, was hier passiert. (Führe die Zelle auch aus, es wird aber nichts (sichtbares) passieren) "
   ]
  },
  {
   "cell_type": "code",
   "execution_count": null,
   "id": "aeb874a0",
   "metadata": {},
   "outputs": [],
   "source": [
    "# Funktionen beginnen in python immer mit \"def\" - am Ende ist ein Doppelpunkt\n",
    "def add(a, b):\n",
    "    result = a + b\n",
    "    return result"
   ]
  },
  {
   "cell_type": "markdown",
   "id": "d2748bf2",
   "metadata": {},
   "source": [
    "Hier wurde eine Funktion `add` geschrieben, die zwei Variablen aufaddiert. Wie du siehst, benutz man beim Programmieren eigentlich immer englische Begriffe. Die beiden Variablen werden in der Funktion `a` und `b` genannt (so werden sie in der ersten Zeile genann, der quasi die Namen so definiert). Wie die Variablen heißen, mit der wir die Funktion aufrufen, ist egal. In der Funktion werden die beiden Werte addiert und dann wird das Ergebnis mit `return`zurückgegeben. \n",
    "\n",
    "Bei Funktionen in Python ist wichtig, dass ab der Definition in der ersten Zeile alles eingerückt wird, bis die Funktionen endet. Das macht man entweder mit 4 Leerzeichen oder indem man einmal `Tab` drückt.\n",
    "\n",
    "So können wir das ganze jetzt nutzen."
   ]
  },
  {
   "cell_type": "code",
   "execution_count": null,
   "id": "b9c9df0f",
   "metadata": {},
   "outputs": [],
   "source": [
    "var1 = 3\n",
    "var2 = 9.9 \n",
    "# jetzt kommt der Funktionsaufruf\n",
    "result = add(var1, var2)\n",
    "print(result)"
   ]
  },
  {
   "cell_type": "markdown",
   "id": "5ccc4e51",
   "metadata": {},
   "source": [
    "Alternativ (vergiss nicht, `var1` und `var2` sind nur Platzhalter):"
   ]
  },
  {
   "cell_type": "code",
   "execution_count": null,
   "id": "e6e1d438",
   "metadata": {},
   "outputs": [],
   "source": [
    "result2 = add(4, 199)\n",
    "print(result2)"
   ]
  },
  {
   "cell_type": "markdown",
   "id": "7d45cc28",
   "metadata": {},
   "source": [
    "Wie Dir jetzt vielleicht auffällt, kanntest du von Anfang an schon eine Funktion, nämlich `print`. Diese bietet uns Python selbst schon an. Diese gibt auch nichts zurück, sondern macht einfach nur etwas, indem sie die übergebenen Variablen ausgibt. \n",
    "\n",
    "Versuche mal eine eigene Funktion zu schreiben. Zum Beispiel `sub()`, die zwei Zahlen von einander abzieht, `multiply()` oder `divide()`. Rufe sie anschließend mit zwei Zahlen auf. Das Definieren der Funktionen und das Aufrufen kannst du in derselben Zelle machen. Vergiss aber nicht, dass der Code der Methode eingerückt sein muss. Der Code, der die Funktion aufruft dann nicht mehr. "
   ]
  },
  {
   "cell_type": "code",
   "execution_count": null,
   "id": "c2f287f7",
   "metadata": {},
   "outputs": [],
   "source": []
  },
  {
   "cell_type": "markdown",
   "id": "d1b4a2dc",
   "metadata": {},
   "source": [
    "# If-Abfrage\n",
    "\n",
    "In quasi jeder Programmiersprache gibt es sogenannt `if` Abfragen. Diese fragen ab, ob eine bestimmte Bedingung erfüllt ist und wenn ja, wird ein Code Block ausgeführt. Dafür gibt es auch den Boolschen Datentyp den wir weiter oben hatten. Wenn die Bedingung `True` also wahr ist, wird der Code Block ausgeführt. Der muss eingrückt sein, genau wie bei einer Funktion.\n",
    "\n",
    "Guck Dir den folgenden Code mal an und versuche ihn zu verstehen. Wenn du ihn  ausführst, welche `print` Befehler wirst du sehen\n",
    "\n",
    "Tipp: Das Gleichheitszeichen wird in Python ja für die Zuweisung von Variablen verwendet (z.B. `a = 5`). Will man für `if` Blöcke abfragen, ob zwei Dinge identisch sind, muss man deswegen zwei Gleichkeitszeichen verwenden `==`. Sonst denkt der Computer, du willst etwas zuweisen."
   ]
  },
  {
   "cell_type": "code",
   "execution_count": null,
   "id": "bf9aa957",
   "metadata": {},
   "outputs": [],
   "source": [
    "if True:\n",
    "    print(\"Zeile 2\")\n",
    "\n",
    "if False: \n",
    "    print(\"Zeile 5\")\n",
    "\n",
    "a = 5\n",
    "    \n",
    "if 2 + 3 == a:\n",
    "    print(\"Zeile 10\")\n",
    "    \n",
    "if a > 4:\n",
    "    print(\"Zeile 13\")\n",
    "    \n",
    "if not False:\n",
    "    print(\"Zeile 16\")"
   ]
  },
  {
   "cell_type": "markdown",
   "id": "775550be",
   "metadata": {},
   "source": [
    "Man kann auch noch einen `else` Block (engl. für \"ansonsten\") hinzufügen. Dieser wird ausgeführt, wenn die Bedinung falsch war. Es wird also entweder der `if` Block oder der `else` Block ausgeführt - nie beides. "
   ]
  },
  {
   "cell_type": "code",
   "execution_count": null,
   "id": "b7a3e82a",
   "metadata": {},
   "outputs": [],
   "source": [
    "number = 1000\n",
    "\n",
    "if number < 100:\n",
    "    print(\"Kleine Zahl\")\n",
    "else:\n",
    "    print(\"große Zahl\")"
   ]
  },
  {
   "cell_type": "markdown",
   "id": "bc8a1a3a",
   "metadata": {},
   "source": [
    "Schreibe eine Funktion, der man eine (String) Variable übergibt. Wenn dieser String genau dein Name ist, soll eine Nachricht augegeben werden, die du frei festlegen darfst. Wird ein andere String übergeben, soll ausgegeben werden \"Das bin nicht Ich\". Rufe die Funktion anschließend auf. Vergiss nicht, der Code der Funktion muss eingrückt sein. Der Code der `If`-Schleife dann sogar noch eins weiter. "
   ]
  },
  {
   "cell_type": "code",
   "execution_count": null,
   "id": "de7f3eff",
   "metadata": {},
   "outputs": [],
   "source": []
  },
  {
   "cell_type": "markdown",
   "id": "fb27489d",
   "metadata": {},
   "source": [
    "# Listen und For-Schleifen"
   ]
  },
  {
   "cell_type": "markdown",
   "id": "3cdbb5fa",
   "metadata": {},
   "source": [
    "In Python kann man Listen definieren, die mehrere Variablen beinhalten. Listen werden mit eckigen Klammern gekennzeichnet. "
   ]
  },
  {
   "cell_type": "code",
   "execution_count": null,
   "id": "63cfb60a",
   "metadata": {},
   "outputs": [],
   "source": [
    "a = 5\n",
    "b = \"Hello\"\n",
    "c = True\n",
    "\n",
    "my_list = [a, b, c]\n",
    "\n",
    "print(my_list)"
   ]
  },
  {
   "cell_type": "markdown",
   "id": "310a8a19",
   "metadata": {},
   "source": [
    "Listen können auch leer sein. Mit `append()` kann man Dinge hinzufügen. Anders als bislang, ruft man diese Funktion auf, indem man den Aufruf an den Listenamen anhängt:"
   ]
  },
  {
   "cell_type": "code",
   "execution_count": null,
   "id": "5c511df5",
   "metadata": {},
   "outputs": [],
   "source": [
    "# Wir definieren eine leere List\n",
    "my_list = [] \n",
    "\n",
    "print(my_list)\n",
    "\n",
    "# Wir fügen zwei Elemente hinzu\n",
    "a = 6\n",
    "my_list.append(a)\n",
    "my_list.append(5)\n",
    "\n",
    "print(my_list)"
   ]
  },
  {
   "cell_type": "markdown",
   "id": "b9474d5e",
   "metadata": {},
   "source": [
    "Man kann auch gezielt auf die Position in einer Liste zugreifen und diese auch so verändern. Das macht man mit den eckigen Klammern. Die gewünschte Position ist dazwischen. \n",
    "\n",
    "Informatiker fangen bei 0 an zu zählen. Deswegen ist das erste Listenelement an Position `0`. Das letzte Element einer Liste ist `n-1`. "
   ]
  },
  {
   "cell_type": "code",
   "execution_count": null,
   "id": "9f87ed96",
   "metadata": {},
   "outputs": [],
   "source": [
    "my_list = [\"Adler\", \"Biber\", \"Chameleon\", \"Dachs\"]\n",
    "\n",
    "print(my_list[0])\n",
    "print(my_list[1])\n",
    "print(my_list[2])\n",
    "print(my_list[3])"
   ]
  },
  {
   "cell_type": "code",
   "execution_count": null,
   "id": "fade46bf",
   "metadata": {},
   "outputs": [],
   "source": [
    "my_list[3] = \"Dackel\"\n",
    "print(my_list)"
   ]
  },
  {
   "cell_type": "markdown",
   "id": "2cf884ee",
   "metadata": {},
   "source": [
    "`len()` ist eine Funktion, die uns ähnlich wie `print` von Python zur Verfügung gestellt wird. Diese gibt uns die Länge einer Liste zurück oder besser gesagt: wie viele Elemente in der Liste sind. "
   ]
  },
  {
   "cell_type": "code",
   "execution_count": null,
   "id": "bdc3793f",
   "metadata": {},
   "outputs": [],
   "source": [
    "print(len(my_list))"
   ]
  },
  {
   "cell_type": "markdown",
   "id": "61f4d440",
   "metadata": {},
   "source": [
    "Schreibe eine Funktion, die eine Liste entgegen nimmt und ausgibt \"Das ist eine lange Liste\", wenn diese mehr als 3 Elemente beinhaltet. Wenn sie weniger Elemente hat, dann gibt sie aus: \"Das ist eine kurze Liste\". Teste sie mit den beiden Listen, die wir schon definiert haben. Die Definitionszeile der Funktion haben wir schon für dich geschrieben. "
   ]
  },
  {
   "cell_type": "code",
   "execution_count": null,
   "id": "ca602dfe",
   "metadata": {},
   "outputs": [],
   "source": [
    "list1 = [\"Mathe\", \"Physik\"]\n",
    "list2 = [\"Deutsch\", \"Englisch\", \"Italienisch\", \"Spanisch\", \"Polnisch\"]\n",
    "\n",
    "def check_length(the_list):\n",
    "    print(the_list)\n",
    "    # Schreib deinen Code hier hin\n",
    "\n",
    "    \n",
    "check_length(list1)\n",
    "check_length(list2)\n"
   ]
  },
  {
   "cell_type": "markdown",
   "id": "4eb41ef9",
   "metadata": {},
   "source": [
    "`For`-Schleifen sind neben `if`, Funktionen und Variablen ein weiteres Konstrukt, das man in fast jeder Programmiersprache findet. Mit ihnen kann man über Dinge iterieren - in unserem Fall also Listen. Eine Schleife führt dabei eine eigene Variable ein (die man auch wieder beliebig benennen kann). Diese Varaible nimmt dann jeden Wert einer Liste einmal an und mit diesem kann dann etwas machen. Man kann die Schleifendefinition lesen als: `Für jedes Element in der Liste, mache das folgende:`. Hier ein Beispiel."
   ]
  },
  {
   "cell_type": "code",
   "execution_count": null,
   "id": "2a8e87f2",
   "metadata": {},
   "outputs": [],
   "source": [
    "my_list = [1, 2, 3, 4, 5]\n",
    "\n",
    "for e in my_list: \n",
    "    print(e)\n",
    "print(\"Liste zu Ende\")"
   ]
  },
  {
   "cell_type": "markdown",
   "id": "5df27afa",
   "metadata": {},
   "source": [
    "Der Code, der für jedes Element ausgeführt werden soll, muss auch wieder eingerückt sein. Die Schleife lässt sich also übersetzen in: `Für jedes Element der Liste \"my_list\", das ich \"e\" nenne, mache das folgende: print(e)`.\n",
    "\n",
    "Man kann auch kompliziertere Dinge mit den Elementen machen als sie einfach auszugeben. Was aber so nicht funktioniert, ist die Liste zu verändern. Denn `number` ist ja einfach nur eine Variable, wie wir das aktuelle Listenelement nennen, aber nicht das Listenelement selbst. "
   ]
  },
  {
   "cell_type": "code",
   "execution_count": null,
   "id": "f3a9ee6c",
   "metadata": {},
   "outputs": [],
   "source": [
    "for number in my_list:\n",
    "    number = 6\n",
    "    \n",
    "print(my_list)"
   ]
  },
  {
   "cell_type": "markdown",
   "id": "1f663aef",
   "metadata": {},
   "source": [
    "Listen durch Schleifen zu verändern, geht aber schon. Da müssen wir aber anders drübergehen. Du hast ja weiter oben schon gelernt, dass man den Eintrag ändern kann, wenn man den Index kennt. Wenn wir also über eine Liste iterieren würden, die alle Indizes unserer Liste enthält, könnten wir so auch die Inhalte der Liste bearbeiten.\n",
    "\n",
    "Um das zu tun, können wir wieder eine Funktion verwenden, die uns Python bereitstellt und zwar `range()`. `range(5)` gibt uns nämlich folgendes zurück `[0, 1, 2, 3, 4]`."
   ]
  },
  {
   "cell_type": "code",
   "execution_count": null,
   "id": "69ec8522",
   "metadata": {},
   "outputs": [],
   "source": [
    "for i in range(5):\n",
    "    print(i)"
   ]
  },
  {
   "cell_type": "markdown",
   "id": "c2c3af77",
   "metadata": {},
   "source": [
    "Auch hier wird also von `0` angezählt. Aber das ist ja sehr praktisch, wenn wir so unsere Liste verändern wollen. \n",
    "\n",
    "Das folgende Stück Code macht vieles auf einmal, was du gerade gelernt hast. Guck mal, ob du vorhersagen kannst, was am Ende rauskommt. "
   ]
  },
  {
   "cell_type": "code",
   "execution_count": null,
   "id": "a62a2089",
   "metadata": {},
   "outputs": [],
   "source": [
    "my_list = [0, 1, 2, 3, 4]\n",
    "print(my_list)\n",
    "\n",
    "for i in range(len(my_list)):\n",
    "    my_list[i] = my_list[i] + 1\n",
    "    \n",
    "print(my_list)"
   ]
  },
  {
   "cell_type": "code",
   "execution_count": null,
   "id": "e938f62c",
   "metadata": {},
   "outputs": [],
   "source": []
  }
 ],
 "metadata": {
  "kernelspec": {
   "display_name": "work",
   "language": "python",
   "name": "work"
  },
  "language_info": {
   "codemirror_mode": {
    "name": "ipython",
    "version": 3
   },
   "file_extension": ".py",
   "mimetype": "text/x-python",
   "name": "python",
   "nbconvert_exporter": "python",
   "pygments_lexer": "ipython3",
   "version": "3.10.6"
  }
 },
 "nbformat": 4,
 "nbformat_minor": 5
}
