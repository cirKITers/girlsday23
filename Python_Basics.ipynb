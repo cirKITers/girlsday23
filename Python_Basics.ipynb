{
 "cells": [
  {
   "cell_type": "markdown",
   "id": "2222ae7c",
   "metadata": {},
   "source": [
    "# Hello World\n",
    "\n",
    "Zum Programmieren nutzen wir heute die Programmiersprache Python. Hier wollen wir Dir ein paar Grundlagen beibringen. Dazu nutzen wir ein sogenanntes Notebook, das du gerade vor Dir hast. Notebooks bestehen aus Zellen (Cells), die entweder Text beinhalten (so wie diese hier) oder Code (so wie die folgende). Code-Zellen kannst du ausführen, indem du in die Zelle klickst und dann oben in der Leiste auf `Run` klickst oder du drückst `Strg`+ `Enter`. Probiere es mal bei der folgenden Zelle. "
   ]
  },
  {
   "cell_type": "code",
   "execution_count": 2,
   "id": "3ad14b8b",
   "metadata": {},
   "outputs": [
    {
     "name": "stdout",
     "output_type": "stream",
     "text": [
      "Hello World\n"
     ]
    }
   ],
   "source": [
    "print(\"Hello World\")"
   ]
  },
  {
   "cell_type": "markdown",
   "id": "a1fdd91b",
   "metadata": {},
   "source": [
    "Unter der Zelle sollte der Spruch \"Hello World\" erschienen sein. Mit dem `print()`Befehl, kann man sich nämlich ausgeben lassen, was in den runden Klammern steht. Texte müssen in Programmiersprachen mit Anführungszeichen gekennzeichnet sein und werden auch Strings (engl. für Zeichenkette) genannt. Probiere mal in der nächsten Zelle deinen Namen mit `print()` ausgeben zu lassen. "
   ]
  },
  {
   "cell_type": "code",
   "execution_count": 3,
   "id": "a2097e1f",
   "metadata": {},
   "outputs": [],
   "source": [
    "# Schreibe in die nächste Zeile deinen Code\n",
    "\n",
    "\n",
    "# Das hier sind übrigens Kommentare. Diese Zeile beginnen mit einem # und werden vom Computer ignoriert\n",
    "# Deswegen kann man hier schreiben, was man will und es gibt trotzdem keinen Fehler. "
   ]
  },
  {
   "cell_type": "markdown",
   "id": "f2c4913c",
   "metadata": {},
   "source": [
    "# Variablen\n",
    "\n",
    "Variablen kennst du Wahrscheinlich aus dem Matheunterricht. Da heißen die meist x und y. Beim Programmieren werden Variablen als eine Art Platzhalter verwendent. So kann man einer Variable (die man fast beliebig nennen kann - aber eben nur fast). Einen Wert zuweisen. So wie hier:"
   ]
  },
  {
   "cell_type": "code",
   "execution_count": 5,
   "id": "15935ea6",
   "metadata": {},
   "outputs": [
    {
     "name": "stdout",
     "output_type": "stream",
     "text": [
      "Hello World\n"
     ]
    }
   ],
   "source": [
    "a = \"Hello World\"\n",
    "print(a)"
   ]
  },
  {
   "cell_type": "markdown",
   "id": "7073fbff",
   "metadata": {},
   "source": [
    "Es passiert genau das gleiche wie in der ersten Zelle, aber diesmal haben wir \"Hello World\" der Variable `a` zugewiesen. Wir können jetzt solange `a` als Stellvertreter für \"Hello World\" verwenden, bis wir es mit einem neuen Wert überschreiben. Das geht in Notebooks sogar über verschiedene Zellen hinweg."
   ]
  },
  {
   "cell_type": "code",
   "execution_count": 7,
   "id": "cf1645e4",
   "metadata": {},
   "outputs": [
    {
     "name": "stdout",
     "output_type": "stream",
     "text": [
      "a steht gerade für: Hello World\n",
      "jetzt steht a für: Hello Karlsruhe\n"
     ]
    }
   ],
   "source": [
    "print(\"a steht gerade für:\", a)\n",
    "# wie du siehst, kann man an print() mehrere Sache übergeben, wenn man sie mit einem Komma trennt. \n",
    "\n",
    "# jetzt überschreiben wir a\n",
    "a = \"Hello Karlsruhe\"\n",
    "print(\"jetzt steht a für:\", a)"
   ]
  },
  {
   "cell_type": "markdown",
   "id": "c3648ed3",
   "metadata": {},
   "source": [
    "Variablen(werte) haben unterschiedliche Datentypen. Einen kennst du schon - nämlich String. Das ist quasi der Datentyp für Text. Andere Datentypen sind zum Beispiel Interger (ganze Zahlen), Float (Gleitkommazahlen) oder Boolsche Werte (True oder False, Wahr oder Falsch). In Python muss man bei der Erstellung (oder Zuweisung) einer Variablen aber nicht angben, was diese für einen Typ hat. Python erkennt das automatisch. Hier ein paar Beispiele: "
   ]
  },
  {
   "cell_type": "code",
   "execution_count": 8,
   "id": "f2c0223a",
   "metadata": {},
   "outputs": [],
   "source": [
    "var1 = 1 # ein Integer\n",
    "var2 = 9.0 # ein Float\n",
    "var3 = True # ein Bool\n",
    "var4 = False # ein Bool"
   ]
  },
  {
   "cell_type": "markdown",
   "id": "f839c1fb",
   "metadata": {},
   "source": [
    "Gerade Integer und Floats sind recht ähnlich zur Mathematik. In Python kann man mit diesen sogar rechnen, wie mit einem Taschenrechner:"
   ]
  },
  {
   "cell_type": "code",
   "execution_count": 9,
   "id": "1f862434",
   "metadata": {},
   "outputs": [
    {
     "name": "stdout",
     "output_type": "stream",
     "text": [
      "11.3\n"
     ]
    }
   ],
   "source": [
    "result = 5 + 6.3\n",
    "print(result)"
   ]
  },
  {
   "cell_type": "markdown",
   "id": "191c5de4",
   "metadata": {},
   "source": [
    "Versuche selbst mal ein paar einfach Gleichungen ausrechnen und Dir das Ergebnis anzeigen zu lassen. Du kannst `+`, `-`, `*` und `/`. Auch Klammern `()`funktionieren."
   ]
  },
  {
   "cell_type": "code",
   "execution_count": null,
   "id": "8d1eb1bb",
   "metadata": {},
   "outputs": [],
   "source": []
  },
  {
   "cell_type": "markdown",
   "id": "07090f55",
   "metadata": {},
   "source": [
    "# Funktionen\n",
    "\n",
    "Zusammen mit Variablen sind Funktionen die Grundlage für das Programmieren. Genau wie in der Mathematik nimmt eine Funktion Variablen (bzw. man übergibt ihr Variablen), macht \"irgendwas\" damit und gibt ein Ergebnis zurück (das ist nicht zwingend so, manchmal macht sie auch einfach nur was und gibt nichts zurück). Hier ein Beispiel. Versuch mal zu verstehen, was hier passiert. (Führe die Zelle auch aus, es wird aber nichts (sichtbares) passieren) "
   ]
  },
  {
   "cell_type": "code",
   "execution_count": 16,
   "id": "cc9fc038",
   "metadata": {},
   "outputs": [],
   "source": [
    "# Funktionen beginnen in python immer mit \"def\"\n",
    "def add(a, b):\n",
    "    result = a + b\n",
    "    return result"
   ]
  },
  {
   "cell_type": "markdown",
   "id": "fb55d00b",
   "metadata": {},
   "source": [
    "Hier wurde eine Funktion `add` geschrieben, die zwei Variablen aufaddiert. Wie du siehst, benutz man beim Programmieren eigentlich immer englische Begriffe. Die beiden Variablen werden in der Funktion `a` und `b` genannt (so werden sie in der ersten Zeile genann, der quasi die Namen so definiert). Wie die Variablen heißen, mit der wir die Funktion aufrufen, ist egal. In der Funktion werden die beiden Werte addiert und dann wird das Ergebnis mit `return`zurückgegeben. \n",
    "\n",
    "Bei Funktionen in Python ist wichtig, dass ab der Definition in der ersten Zeile alles eingerückt wird, bis die Funktionen endet. Das macht man entweder mit 4 Leerzeichen oder indem man einmal `Tab` drückt.\n",
    "\n",
    "So können wir das ganze jetzt nutzen."
   ]
  },
  {
   "cell_type": "code",
   "execution_count": 20,
   "id": "f7812c90",
   "metadata": {},
   "outputs": [
    {
     "name": "stdout",
     "output_type": "stream",
     "text": [
      "12.9\n"
     ]
    }
   ],
   "source": [
    "var1 = 3\n",
    "var2 = 9.9 \n",
    "# jetzt kommt der Funktionsaufruf\n",
    "result = add(var1, var2)\n",
    "print(result)"
   ]
  },
  {
   "cell_type": "markdown",
   "id": "3e7c4295",
   "metadata": {},
   "source": [
    "Alternativ (vergiss nicht, `var1` und `var2` sind nur Platzhalter):"
   ]
  },
  {
   "cell_type": "code",
   "execution_count": 18,
   "id": "32aca461",
   "metadata": {},
   "outputs": [
    {
     "name": "stdout",
     "output_type": "stream",
     "text": [
      "203\n"
     ]
    }
   ],
   "source": [
    "result2 = add(4, 199)\n",
    "print(result2)"
   ]
  },
  {
   "cell_type": "markdown",
   "id": "7baf363a",
   "metadata": {},
   "source": [
    "Wie Dir jetzt vielleicht auffällt, kanntest du von Anfang an schon eine Funktion, nämlich `print`. Diese bietet uns Python selbst schon an. Diese gibt auch nichts zurück, sondern macht einfach nur etwas, indem sie die übergebenen Variablen ausgibt. \n",
    "\n",
    "Versuche mal eine eigene Funktion zu schreiben. Zum Beispiel `sub()`, die zwei Zahlen von einander abzieht, `multiply()` oder `divide()`. Rufe sie anschließend mit zwei Zahlen auf. Das Definieren der Funktionen und das Aufrufen kannst du in derselben Zelle machen. Vergiss aber nicht, dass der Code der Methode eingerückt sein muss. Der Code, der die Funktion aufruft dann nicht mehr. "
   ]
  },
  {
   "cell_type": "code",
   "execution_count": null,
   "id": "2117b8f4",
   "metadata": {},
   "outputs": [],
   "source": []
  }
 ],
 "metadata": {
  "kernelspec": {
   "display_name": "work",
   "language": "python",
   "name": "work"
  },
  "language_info": {
   "codemirror_mode": {
    "name": "ipython",
    "version": 3
   },
   "file_extension": ".py",
   "mimetype": "text/x-python",
   "name": "python",
   "nbconvert_exporter": "python",
   "pygments_lexer": "ipython3",
   "version": "3.10.6"
  }
 },
 "nbformat": 4,
 "nbformat_minor": 5
}
