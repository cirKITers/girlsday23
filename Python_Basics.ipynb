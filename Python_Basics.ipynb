{
 "cells": [
  {
   "cell_type": "markdown",
   "id": "9ac38ec5",
   "metadata": {},
   "source": [
    "# Hello World\n",
    "\n",
    "Zum Programmieren nutzen wir heute die Programmiersprache Python. Hier wollen wir Dir ein paar Grundlagen beibringen. Dazu nutzen wir ein sogenanntes Notebook, das du gerade vor Dir hast. Notebooks bestehen aus Zellen (Cells), die entweder Text beinhalten (so wie diese hier) oder Code (so wie die folgende). Code-Zellen kannst du ausführen, indem du in die Zelle klickst und dann oben in der Leiste auf `Run` klickst oder du drückst `Strg`+ `Enter`. Probiere es mal bei der folgenden Zelle. "
   ]
  },
  {
   "cell_type": "code",
   "execution_count": null,
   "id": "e772074d",
   "metadata": {},
   "outputs": [],
   "source": [
    "print(\"Hello World\")"
   ]
  },
  {
   "cell_type": "markdown",
   "id": "1adc92a0",
   "metadata": {},
   "source": [
    "**Aufgabe:** Unter der Zelle sollte der Spruch \"Hello World\" erschienen sein. Mit dem `print()`Befehl, kann man sich nämlich ausgeben lassen, was in den runden Klammern steht. Texte müssen in Programmiersprachen mit Anführungszeichen gekennzeichnet sein und werden auch Strings (engl. für Zeichenkette) genannt. Probiere mal in der nächsten Zelle deinen Namen mit `print()` ausgeben zu lassen. "
   ]
  },
  {
   "cell_type": "code",
   "execution_count": null,
   "id": "3aa79545",
   "metadata": {},
   "outputs": [],
   "source": [
    "# Schreibe in die nächste Zeile deinen Code\n",
    "\n",
    "\n",
    "# Das hier sind übrigens Kommentare. Diese Zeilen beginnen mit einem # und werden vom Computer ignoriert\n",
    "# Deswegen kann man hier schreiben, was man will und es gibt trotzdem keinen Fehler. "
   ]
  },
  {
   "cell_type": "markdown",
   "id": "cfe14821",
   "metadata": {},
   "source": [
    "# Variablen\n",
    "\n",
    "Variablen kennst du Wahrscheinlich aus dem Matheunterricht. Da heißen die meist x und y. Auch beim Programmieren werden Variablen als eine Art Platzhalter verwendent. So kann man einer Variable (die man fast beliebig nennen kann - aber eben nur fast). Einen Wert zuweisen. So wie hier:"
   ]
  },
  {
   "cell_type": "code",
   "execution_count": null,
   "id": "5fe1e4be",
   "metadata": {},
   "outputs": [],
   "source": [
    "a = \"Hello World\"\n",
    "print(a)"
   ]
  },
  {
   "cell_type": "markdown",
   "id": "4f8c57e0",
   "metadata": {},
   "source": [
    "Es passiert genau das gleiche wie in der ersten Zelle, aber diesmal haben wir \"Hello World\" der Variable `a` zugewiesen. Wir können jetzt solange `a` als Stellvertreter für \"Hello World\" verwenden, bis wir es mit einem neuen Wert überschreiben. Das geht in Notebooks sogar über verschiedene Zellen hinweg."
   ]
  },
  {
   "cell_type": "code",
   "execution_count": null,
   "id": "6025d304",
   "metadata": {},
   "outputs": [],
   "source": [
    "print(\"a steht gerade für:\", a)\n",
    "# wie du siehst, kann man an print() mehrere Sache übergeben, wenn man sie mit einem Komma trennt. \n",
    "\n",
    "# jetzt überschreiben wir a\n",
    "a = \"Hello Karlsruhe\"\n",
    "print(\"jetzt steht a für:\", a)"
   ]
  },
  {
   "cell_type": "markdown",
   "id": "3bae06f8",
   "metadata": {},
   "source": [
    "Variablen(werte) haben unterschiedliche Datentypen. Einen kennst du schon - nämlich String. Das ist quasi der Datentyp für Text. Andere Datentypen sind zum Beispiel Interger (ganze Zahlen), Float (Gleitkommazahlen) oder Boolsche Werte (True oder False, Wahr oder Falsch). In Python muss man bei der Erstellung (oder Zuweisung) einer Variablen aber nicht angben, was diese für einen Typ hat. Python erkennt das automatisch. Hier ein paar Beispiele: "
   ]
  },
  {
   "cell_type": "code",
   "execution_count": null,
   "id": "7d4241db",
   "metadata": {},
   "outputs": [],
   "source": [
    "var1 = 1 # ein Integer\n",
    "var2 = 9.0 # ein Float\n",
    "var3 = True # ein Bool\n",
    "var4 = False # ein Bool"
   ]
  },
  {
   "cell_type": "markdown",
   "id": "8b845189",
   "metadata": {},
   "source": [
    "Gerade Integer und Floats sind recht ähnlich zur Mathematik. In Python kann man mit diesen sogar rechnen, wie mit einem Taschenrechner:"
   ]
  },
  {
   "cell_type": "code",
   "execution_count": null,
   "id": "096e3ba1",
   "metadata": {},
   "outputs": [],
   "source": [
    "result = 5 + 6.3\n",
    "print(result)"
   ]
  },
  {
   "cell_type": "markdown",
   "id": "c3103df4",
   "metadata": {},
   "source": [
    "**Aufgabe:** Versuche selbst mal ein paar einfach Gleichungen ausrechnen und Dir das Ergebnis anzeigen zu lassen. Du kannst `+`, `-`, `*` und `/`. Auch Klammern `()`funktionieren."
   ]
  },
  {
   "cell_type": "code",
   "execution_count": null,
   "id": "0b2e2ea2",
   "metadata": {},
   "outputs": [],
   "source": []
  },
  {
   "cell_type": "markdown",
   "id": "99f2090a",
   "metadata": {},
   "source": [
    "Man kann sogar Dinge machen, die in der Mathematik nicht gehen. Während `a = a + 1` dort eine falsche Aussage wäre, wird in der Informatik der alte Wert von a genommen und um eins erhöht. Das funktioniert natürlich nur wenn a ein Interger oder Float ist. "
   ]
  },
  {
   "cell_type": "code",
   "execution_count": null,
   "id": "d6b4edfe",
   "metadata": {},
   "outputs": [],
   "source": [
    "a = 4\n",
    "\n",
    "print(\"Alter Wert\", a)\n",
    "\n",
    "a = a + 1\n",
    "\n",
    "print(\"Neuer Wert\", a)"
   ]
  },
  {
   "cell_type": "markdown",
   "id": "50b049d5",
   "metadata": {},
   "source": [
    "# Funktionen\n",
    "\n",
    "Zusammen mit Variablen sind Funktionen die Grundlage für das Programmieren. Genau wie in der Mathematik nimmt eine Funktion Variablen (bzw. man übergibt ihr Variablen), macht \"irgendwas\" damit und gibt ein Ergebnis zurück (das ist nicht zwingend so, manchmal macht sie auch einfach nur was und gibt nichts zurück). Hier ein Beispiel. Versuch mal zu verstehen, was hier passiert. (Führe die Zelle auch aus, es wird aber nichts (sichtbares) passieren) "
   ]
  },
  {
   "cell_type": "code",
   "execution_count": null,
   "id": "efa8aaaa",
   "metadata": {},
   "outputs": [],
   "source": [
    "# Funktionen beginnen in python immer mit \"def\" - am Ende ist ein Doppelpunkt\n",
    "def add(a, b):\n",
    "    result = a + b\n",
    "    return result"
   ]
  },
  {
   "cell_type": "markdown",
   "id": "a6cc1e56",
   "metadata": {},
   "source": [
    "Hier wurde eine Funktion `add` geschrieben, die zwei Variablen aufaddiert und das Ergebnis zurückgibt. Wie du siehst, benutz man beim Programmieren eigentlich immer englische Begriffe. Die beiden Variablen werden in der Funktion `a` und `b` genannt (so werden sie in der ersten Zeile genann, der quasi die Namen so definiert). Wie die Variablen heißen, mit der wir die Funktion aufrufen, ist egal. In der Funktion werden die beiden Werte addiert und dann wird das Ergebnis mit `return`zurückgegeben. \n",
    "\n",
    "Bei Funktionen in Python ist es wichtig, dass ab der Definition in der ersten Zeile alles eingerückt wird, bis die Funktionen endet. Das macht man entweder mit 4 Leerzeichen oder (bevorzugt) indem man einmal `Tab` drückt.\n",
    "\n",
    "So können wir das ganze jetzt nutzen."
   ]
  },
  {
   "cell_type": "code",
   "execution_count": null,
   "id": "b63b59ed",
   "metadata": {},
   "outputs": [],
   "source": [
    "var1 = 3\n",
    "var2 = 9.9 \n",
    "# jetzt kommt der Funktionsaufruf\n",
    "result = add(var1, var2)\n",
    "print(result)"
   ]
  },
  {
   "cell_type": "markdown",
   "id": "4f7e4953",
   "metadata": {},
   "source": [
    "Vergiss nicht, `var1` und `var2` sind nur Platzhalter. In der Funktion wird `var1` `a` genannt. `var2` wird zu `b`.\n",
    "\n",
    "Man kann die Funktion auch direkt mit Werten aufrufen, ohne Platzhalter:"
   ]
  },
  {
   "cell_type": "code",
   "execution_count": null,
   "id": "93f3616c",
   "metadata": {},
   "outputs": [],
   "source": [
    "result2 = add(4, 199)\n",
    "print(result2)"
   ]
  },
  {
   "cell_type": "markdown",
   "id": "e9af1866",
   "metadata": {},
   "source": [
    "Wie Dir jetzt vielleicht auffällt, kanntest du von Anfang an schon eine Funktion, nämlich `print`. Diese bietet uns Python selbst schon an. Diese gibt auch nichts zurück, sondern macht einfach nur etwas, indem sie die übergebenen Variablen ausgibt. \n",
    "\n",
    "**Aufgabe:** Versuche mal eine eigene Funktion zu schreiben. Zum Beispiel `sub()`, die zwei Zahlen von einander abzieht, `multiply()` oder `divide()`. Rufe sie anschließend mit zwei Zahlen auf. Das Definieren der Funktionen und das Aufrufen kannst du in derselben Zelle machen. Vergiss aber nicht, dass der Code der Methode eingerückt sein muss. Der Code, der die Funktion aufruft dann nicht mehr. "
   ]
  },
  {
   "cell_type": "code",
   "execution_count": null,
   "id": "5d4357e2",
   "metadata": {},
   "outputs": [],
   "source": []
  },
  {
   "cell_type": "markdown",
   "id": "5456be02",
   "metadata": {},
   "source": [
    "# If-Abfrage\n",
    "\n",
    "In quasi jeder Programmiersprache gibt es sogenannt `if` Abfragen. Diese fragen ab, ob eine bestimmte Bedingung erfüllt ist und wenn ja, wird ein Code Block ausgeführt. Dafür gibt es auch den Boolschen Datentyp, den wir weiter oben hatten. Wenn die Bedingung `True` also wahr ist, wird der Code Block ausgeführt. Der muss eingrückt sein, genau wie bei einer Funktion.\n",
    "\n",
    "Guck Dir den folgenden Code mal an und versuche ihn zu verstehen. Wenn du ihn  ausführst, welche `print` Befehle wirst du sehen?\n",
    "\n",
    "Tipp: Das Gleichheitszeichen wird in Python ja für die Zuweisung von Variablen verwendet (z.B. `a = 5`). Will man für `if` Blöcke abfragen, ob zwei Dinge \"gleich\" sind, muss man deswegen zwei Gleichjeitszeichen verwenden `==`. Sonst denkt der Computer, Du willst etwas zuweisen."
   ]
  },
  {
   "cell_type": "code",
   "execution_count": null,
   "id": "2278731a",
   "metadata": {},
   "outputs": [],
   "source": [
    "if True:\n",
    "    print(\"Zeile 2\")\n",
    "\n",
    "if False: \n",
    "    print(\"Zeile 5\")\n",
    "\n",
    "a = 5\n",
    "    \n",
    "if 2 + 3 == a:\n",
    "    print(\"Zeile 10\")\n",
    "    \n",
    "if a > 4:\n",
    "    print(\"Zeile 13\")\n",
    "    \n",
    "if not False:\n",
    "    print(\"Zeile 16\")"
   ]
  },
  {
   "cell_type": "markdown",
   "id": "0a7fc548",
   "metadata": {},
   "source": [
    "Man kann auch noch einen `else` Block (engl. für \"ansonsten\") hinzufügen. Dieser wird ausgeführt, wenn die Bedinung falsch war. Es wird also entweder der `if` Block oder der `else` Block ausgeführt - nie beides. "
   ]
  },
  {
   "cell_type": "code",
   "execution_count": null,
   "id": "77d48ed0",
   "metadata": {},
   "outputs": [],
   "source": [
    "number = 1000\n",
    "\n",
    "if number < 100:\n",
    "    print(\"Kleine Zahl\")\n",
    "else:\n",
    "    print(\"Große Zahl\")"
   ]
  },
  {
   "cell_type": "markdown",
   "id": "bec91895",
   "metadata": {},
   "source": [
    "**Aufgabe:** Schreibe eine Funktion, der man eine (String) Variable übergibt. Wenn dieser String genau dein Name ist, soll eine Nachricht augegeben werden, die du frei festlegen darfst. Wird ein andere String übergeben, soll ausgegeben werden \"Das bin nicht ich\". Rufe die Funktion anschließend auf. Vergiss nicht, der Code der Funktion muss eingrückt sein. Der Code der `If`-Schleife dann sogar noch eins weiter. "
   ]
  },
  {
   "cell_type": "code",
   "execution_count": null,
   "id": "dde16f21",
   "metadata": {},
   "outputs": [],
   "source": []
  },
  {
   "cell_type": "markdown",
   "id": "4d1dc6e4",
   "metadata": {},
   "source": [
    "**Optional:** Erweitere die zuvor implementierte Funktion um dein Alter. Deine Funktion nimmt nun also zwei Parameter (Name und Alter) entgegen und überprüft ob diese mit deinem Namen und deinem Alter übereinstimmen. Ist einer der beiden Werte falsch, soll in jedem Fall \"Das bin nicht ich\" ausgegeben werden."
   ]
  },
  {
   "cell_type": "code",
   "execution_count": null,
   "id": "80f12cb8",
   "metadata": {},
   "outputs": [],
   "source": []
  },
  {
   "cell_type": "markdown",
   "id": "70487eca",
   "metadata": {},
   "source": [
    "# Listen"
   ]
  },
  {
   "cell_type": "markdown",
   "id": "92032587",
   "metadata": {},
   "source": [
    "In Python kann man Listen definieren, die mehrere Variablen beinhalten. Listen werden mit eckigen Klammern gekennzeichnet. "
   ]
  },
  {
   "cell_type": "code",
   "execution_count": null,
   "id": "a51ccd6f",
   "metadata": {},
   "outputs": [],
   "source": [
    "a = 5\n",
    "b = \"Hello\"\n",
    "c = True\n",
    "\n",
    "my_list = [a, b, c]\n",
    "\n",
    "print(my_list)"
   ]
  },
  {
   "cell_type": "markdown",
   "id": "651ab764",
   "metadata": {},
   "source": [
    "Listen können auch leer sein. Mit `append()` kann man Dinge hinzufügen. Anders als bislang, ruft man diese Funktion auf, indem man den Aufruf an den Listenamen anhängt:"
   ]
  },
  {
   "cell_type": "code",
   "execution_count": null,
   "id": "376bbc0b",
   "metadata": {},
   "outputs": [],
   "source": [
    "# Wir definieren eine leere List\n",
    "my_list = [] \n",
    "\n",
    "print(my_list)\n",
    "\n",
    "# Wir fügen zwei Elemente hinzu\n",
    "a = 6\n",
    "my_list.append(a)\n",
    "my_list.append(5)\n",
    "\n",
    "print(my_list)"
   ]
  },
  {
   "cell_type": "markdown",
   "id": "2a0cf56a",
   "metadata": {},
   "source": [
    "Man kann auch gezielt auf die Position in einer Liste zugreifen und diese auch so verändern. Das macht man mit den eckigen Klammern. Die gewünschte Position ist dazwischen. \n",
    "\n",
    "Informatiker fangen bei `0` an zu zählen. Deswegen ist das erste Listenelement an Position `0`. Das letzte Element einer n-elementigen Liste ist `n-1`. "
   ]
  },
  {
   "cell_type": "code",
   "execution_count": null,
   "id": "9ee4c214",
   "metadata": {},
   "outputs": [],
   "source": [
    "my_list = [\"Adler\", \"Biber\", \"Chameleon\", \"Dachs\"]\n",
    "\n",
    "print(my_list[0])\n",
    "print(my_list[1])\n",
    "print(my_list[2])\n",
    "print(my_list[3])"
   ]
  },
  {
   "cell_type": "code",
   "execution_count": null,
   "id": "35af841c",
   "metadata": {},
   "outputs": [],
   "source": [
    "my_list[3] = \"Dackel\"\n",
    "print(my_list)"
   ]
  },
  {
   "cell_type": "markdown",
   "id": "1c147d8d",
   "metadata": {},
   "source": [
    "`len()` ist eine Funktion, die uns ähnlich wie `print` von Python zur Verfügung gestellt wird. Diese gibt uns die Länge einer Liste zurück oder besser gesagt: wie viele Elemente sind in der Liste. "
   ]
  },
  {
   "cell_type": "code",
   "execution_count": null,
   "id": "1b7710ee",
   "metadata": {},
   "outputs": [],
   "source": [
    "print(len(my_list))"
   ]
  },
  {
   "cell_type": "markdown",
   "id": "7821aa49",
   "metadata": {},
   "source": [
    "**Aufgabe:** Schreibe eine Funktion, die eine Liste entgegen nimmt und ausgibt \"Das ist eine lange Liste\", wenn diese mehr als 3 Elemente beinhaltet. Wenn sie weniger Elemente hat, dann gibt sie aus: \"Das ist eine kurze Liste\". Teste sie mit den beiden Listen, die wir schon definiert haben. Die Definitionszeile der Funktion haben wir schon für dich geschrieben. "
   ]
  },
  {
   "cell_type": "code",
   "execution_count": null,
   "id": "b0de8222",
   "metadata": {},
   "outputs": [],
   "source": [
    "list1 = [\"Mathe\", \"Physik\"]\n",
    "list2 = [\"Deutsch\", \"Englisch\", \"Italienisch\", \"Spanisch\", \"Polnisch\"]\n",
    "\n",
    "def check_length(the_list):\n",
    "    print(the_list)\n",
    "    # Schreib deinen Code hier hin\n",
    "\n",
    "    \n",
    "check_length(list1)\n",
    "check_length(list2)\n"
   ]
  },
  {
   "cell_type": "markdown",
   "id": "1d99ad63",
   "metadata": {},
   "source": [
    "**Optional:** Erweitere deine Funktion, so, dass sie auch die Länge des ersten Worts in der Liste ausgibt. Also z.B.: \"Das ist eine lange Liste. Das erste Wort hat 10 Buchstaben.\""
   ]
  },
  {
   "cell_type": "code",
   "execution_count": null,
   "id": "24b43035",
   "metadata": {},
   "outputs": [],
   "source": []
  },
  {
   "cell_type": "markdown",
   "id": "b9d880d4",
   "metadata": {},
   "source": [
    "# For-Schleifen\n",
    "\n",
    "`For`-Schleifen sind neben `if`, Funktionen und Variablen ein weiteres Konzept, das man in fast jeder Programmiersprache findet. Mit ihnen kann man über Dinge iterieren - in unserem Fall also Listen. Eine Schleife führt dabei eine eigene Variable ein (die man auch wieder beliebig benennen kann). Diese Variable nimmt dann jeden Wert einer Liste einmal an und mit diesem kann dann etwas machen. Man kann die Schleifendefinition lesen als: `Für jedes Element in der Liste, mache das Folgende:`. Hier ein Beispiel."
   ]
  },
  {
   "cell_type": "code",
   "execution_count": null,
   "id": "58d5ade9",
   "metadata": {},
   "outputs": [],
   "source": [
    "my_list = [1, 2, 3, 4, 5]\n",
    "\n",
    "for e in my_list: \n",
    "    print(e)\n",
    "print(\"Liste zu Ende\")"
   ]
  },
  {
   "cell_type": "markdown",
   "id": "e6aaa2c9",
   "metadata": {},
   "source": [
    "Der Code, der für jedes Element ausgeführt werden soll, muss auch wieder eingerückt sein. Die Schleife lässt sich also übersetzen in: `Für jedes Element der Liste \"my_list\", das ich in dem Moment \"e\" nenne, mache das Folgende: print(e)`.\n",
    "\n",
    "Man kann auch kompliziertere Dinge mit den Elementen machen als sie einfach auszugeben. Was aber so nicht funktioniert, ist die Liste zu verändern. Denn `number` ist ja einfach nur eine Variable, wie wir das aktuelle Listenelement nennen, aber nicht das Listenelement selbst. "
   ]
  },
  {
   "cell_type": "code",
   "execution_count": null,
   "id": "d2195e1d",
   "metadata": {},
   "outputs": [],
   "source": [
    "for number in my_list:\n",
    "    number = 6\n",
    "    \n",
    "print(my_list)"
   ]
  },
  {
   "cell_type": "markdown",
   "id": "f9027892",
   "metadata": {},
   "source": [
    "Listen durch Schleifen zu verändern, geht aber schon. Da müssen wir aber anders drübergehen. Du hast ja weiter oben schon gelernt, dass man den Eintrag ändern kann, wenn man den Index kennt. Wenn wir also über eine Liste iterieren würden, die alle Indizes unserer Liste enthält, könnten wir so auch die Inhalte der Liste bearbeiten.\n",
    "\n",
    "Um das zu tun, können wir wieder eine Funktion verwenden, die uns Python bereitstellt und zwar `range()`. Der Aufruf `range(5)` gibt uns nämlich folgende Liste zurück `[0, 1, 2, 3, 4]`."
   ]
  },
  {
   "cell_type": "code",
   "execution_count": null,
   "id": "58f09b0b",
   "metadata": {},
   "outputs": [],
   "source": [
    "for i in range(5):\n",
    "    print(i)"
   ]
  },
  {
   "cell_type": "markdown",
   "id": "0662d6c4",
   "metadata": {},
   "source": [
    "Auch hier wird also von `0` an gezählt. Aber das ist ja sehr praktisch, wenn wir so unsere Liste verändern wollen. \n",
    "\n",
    "Das folgende Stück Code macht vieles auf einmal, was du gerade gelernt hast. Guck mal, ob du vorhersagen kannst, was am Ende rauskommt. "
   ]
  },
  {
   "cell_type": "code",
   "execution_count": null,
   "id": "75f1ce40",
   "metadata": {},
   "outputs": [],
   "source": [
    "my_list = [0, 1, 2, 3, 4]\n",
    "print(my_list)\n",
    "\n",
    "for i in range(len(my_list)):\n",
    "    my_list[i] = my_list[i] + 1\n",
    "    \n",
    "print(my_list)"
   ]
  },
  {
   "cell_type": "markdown",
   "id": "2ac78140",
   "metadata": {},
   "source": []
  },
  {
   "cell_type": "markdown",
   "id": "4b8d67d4",
   "metadata": {},
   "source": [
    "**Optional:** Erweitere die Funktion aus vorhergehender Aufgabe ('check_length'), so das sie die Anzahl an Buchstaben für jeden Eintrag der Liste überprüft und den Mittelwert der Länge aller Einträge ausgibt (anstatt nur die Länge des ersten Wortes)."
   ]
  },
  {
   "cell_type": "code",
   "execution_count": null,
   "id": "513694aa",
   "metadata": {},
   "outputs": [],
   "source": []
  },
  {
   "cell_type": "markdown",
   "id": "eea80559",
   "metadata": {},
   "source": [
    "**Optional:** Abschließend erweitere diese Funktion, so, dass sie die Wörter in der Liste durch die Anzahl der jeweiligen Buchstaben ersetzt und zurückgibt. Deine Funktion bekommt dann also eine Liste von Buchstaben und gibt eine Liste von Zahlen zurück. Nutze hierfür die oben erklärte Technik zum Abändern von Listen und verwende keine neue Liste. "
   ]
  },
  {
   "cell_type": "code",
   "execution_count": null,
   "id": "6fa4c9dd",
   "metadata": {},
   "outputs": [],
   "source": []
  }
 ],
 "metadata": {
  "kernelspec": {
   "display_name": "Python 3.6.8 64-bit",
   "language": "python",
   "name": "python3"
  },
  "language_info": {
   "codemirror_mode": {
    "name": "ipython",
    "version": 3
   },
   "file_extension": ".py",
   "mimetype": "text/x-python",
   "name": "python",
   "nbconvert_exporter": "python",
   "pygments_lexer": "ipython3",
   "version": "3.6.8"
  },
  "vscode": {
   "interpreter": {
    "hash": "916dbcbb3f70747c44a77c7bcd40155683ae19c65e1c03b4aa3499c5328201f1"
   }
  }
 },
 "nbformat": 4,
 "nbformat_minor": 5
}
